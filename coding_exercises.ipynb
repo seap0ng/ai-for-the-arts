{
 "cells": [
  {
   "cell_type": "markdown",
   "id": "caab086c",
   "metadata": {},
   "source": [
    "# AI for the Arts and Humanities (A) - Initial Jupyter Notebook\n",
    "This notebook is for the first section of the AI-A Course Lab Book.\n",
    "\n",
    "- Become more proficient in writing code\n",
    "- Complete the course"
   ]
  },
  {
   "cell_type": "markdown",
   "id": "8bf9359d",
   "metadata": {},
   "source": [
    "# Hello, World!\n",
    "The following code prints out the text \"Hello, World!\" and is often the first program people write in a new language, as it's a good way to check the coding environment is setup properly."
   ]
  },
  {
   "cell_type": "code",
   "execution_count": 4,
   "id": "19a61e6d",
   "metadata": {},
   "outputs": [
    {
     "name": "stdout",
     "output_type": "stream",
     "text": [
      "Hello, World!\n"
     ]
    }
   ],
   "source": [
    "print(\"Hello, World!\")"
   ]
  }
 ],
 "metadata": {
  "kernelspec": {
   "display_name": "Python 3",
   "language": "python",
   "name": "python3"
  },
  "language_info": {
   "codemirror_mode": {
    "name": "ipython",
    "version": 3
   },
   "file_extension": ".py",
   "mimetype": "text/x-python",
   "name": "python",
   "nbconvert_exporter": "python",
   "pygments_lexer": "ipython3",
   "version": "3.12.1"
  }
 },
 "nbformat": 4,
 "nbformat_minor": 5
}
